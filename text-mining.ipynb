{
 "cells": [
  {
   "cell_type": "markdown",
   "metadata": {},
   "source": [
    "# Text mining with regex\n",
    "#### I will regex in text mining. To test the code, uncomment on the commented testing lines of code.\n",
    "\n",
    "#####  ==========================================\n",
    "#####  Title:  Author Style Sample\n",
    "#####  Author: Semakula Abdumajidhu\n",
    "#####  Date:   November 12, 2020\n",
    "#####  ==========================================\n"
   ]
  },
  {
   "cell_type": "code",
   "execution_count": 2,
   "metadata": {},
   "outputs": [],
   "source": [
    "import re, urllib\n",
    "import nltk\n",
    "import urllib.request"
   ]
  },
  {
   "cell_type": "code",
   "execution_count": 3,
   "metadata": {},
   "outputs": [],
   "source": [
    "string1 = 'Semakula'\n",
    "pattern =r\"Semakula\""
   ]
  },
  {
   "cell_type": "code",
   "execution_count": 4,
   "metadata": {},
   "outputs": [
    {
     "name": "stdout",
     "output_type": "stream",
     "text": [
      "Matches!\n"
     ]
    }
   ],
   "source": [
    "if re.match(pattern, string1):\n",
    "    print(\"Matches!\")\n",
    "else:\n",
    "    print(\"Does not match.\")"
   ]
  },
  {
   "cell_type": "code",
   "execution_count": 5,
   "metadata": {},
   "outputs": [],
   "source": [
    "string2 = 'semakula'"
   ]
  },
  {
   "cell_type": "code",
   "execution_count": 6,
   "metadata": {},
   "outputs": [
    {
     "name": "stdout",
     "output_type": "stream",
     "text": [
      "Does not match.\n"
     ]
    }
   ],
   "source": [
    "if re.match(pattern, string2):\n",
    "    print(\"Matches!\")\n",
    "else:\n",
    "    print(\"Does not match.\")"
   ]
  },
  {
   "cell_type": "markdown",
   "metadata": {},
   "source": [
    "Instead of repeating the code, we can use compile to create a regex program and use built-in methods."
   ]
  },
  {
   "cell_type": "code",
   "execution_count": 7,
   "metadata": {},
   "outputs": [
    {
     "data": {
      "text/plain": [
       "<re.Match object; span=(0, 8), match='Semakula'>"
      ]
     },
     "execution_count": 7,
     "metadata": {},
     "output_type": "execute_result"
    }
   ],
   "source": [
    "prog = re.compile(pattern)\n",
    "prog.match(string1)"
   ]
  },
  {
   "cell_type": "markdown",
   "metadata": {},
   "source": [
    "So, compiled programs return special object e.g. match objects. But if they don’t match it will return None, and that means we can still run our conditional loop!"
   ]
  },
  {
   "cell_type": "code",
   "execution_count": 8,
   "metadata": {},
   "outputs": [
    {
     "name": "stdout",
     "output_type": "stream",
     "text": [
      "Matches!\n"
     ]
    }
   ],
   "source": [
    "prog = re.compile(pattern)\n",
    "if prog.match(string1)!= None:\n",
    "    print(\"Matches!\")\n",
    "else:\n",
    "    print(\"Does not match.\")"
   ]
  },
  {
   "cell_type": "markdown",
   "metadata": {},
   "source": [
    "Positional matching of a string "
   ]
  },
  {
   "cell_type": "code",
   "execution_count": null,
   "metadata": {},
   "outputs": [],
   "source": []
  },
  {
   "cell_type": "markdown",
   "metadata": {},
   "source": [
    "# With text file manipulation"
   ]
  },
  {
   "cell_type": "code",
   "execution_count": 9,
   "metadata": {},
   "outputs": [],
   "source": [
    "#import string\n",
    "listfile = open('wordlist.txt','r')\n",
    "listfilelines = listfile.read()"
   ]
  },
  {
   "cell_type": "code",
   "execution_count": 10,
   "metadata": {},
   "outputs": [],
   "source": [
    "\n",
    "def beginsWith():\n",
    "    letters = input(\"enter first letters of the word. eg. zy:\")\n",
    "    p = re.compile(r'{}.*\\b'.format(letters))\n",
    "    print (p.findall(listfilelines))  \n"
   ]
  },
  {
   "cell_type": "code",
   "execution_count": 11,
   "metadata": {},
   "outputs": [],
   "source": [
    "# beginsWith()"
   ]
  },
  {
   "cell_type": "markdown",
   "metadata": {},
   "source": [
    "### Display words containing three vowels"
   ]
  },
  {
   "cell_type": "code",
   "execution_count": 12,
   "metadata": {},
   "outputs": [],
   "source": [
    "def threeVowels():\n",
    "    print(re.findall(r'\\b\\w[aeiouAEIOU]{3}\\w\\b',listfilelines))"
   ]
  },
  {
   "cell_type": "code",
   "execution_count": 13,
   "metadata": {},
   "outputs": [],
   "source": [
    "#threeVowels()"
   ]
  },
  {
   "cell_type": "markdown",
   "metadata": {},
   "source": [
    "### Return words with specified number of letters"
   ]
  },
  {
   "cell_type": "code",
   "execution_count": 14,
   "metadata": {},
   "outputs": [],
   "source": [
    "no_letters = 20\n",
    "def tenLetterWords(no_letters):\n",
    "    noOfLetters = []\n",
    "    lines = listfilelines.split(\"\\n\")\n",
    "    wordlist = []\n",
    "    # Navigate through splitted lines adding each word to the \"mylist\" array.\n",
    "    for each in lines:\n",
    "         wordlist += each.split(\" \")\n",
    "    # appending matches to the noOfLetters list.\n",
    "    for each in wordlist:\n",
    "         if len(each) == no_letters:\n",
    "             noOfLetters.append(each)\n",
    "    # Displays all the words in the array containing 10 letters.\n",
    "    print(noOfLetters)"
   ]
  },
  {
   "cell_type": "code",
   "execution_count": 15,
   "metadata": {},
   "outputs": [],
   "source": [
    "#tenLetterWords(no_letters)"
   ]
  },
  {
   "cell_type": "markdown",
   "metadata": {},
   "source": [
    "### Validating email address"
   ]
  },
  {
   "cell_type": "code",
   "execution_count": 16,
   "metadata": {},
   "outputs": [],
   "source": [
    "\n",
    "def validateEmail():\n",
    "    email = input(\"enter the mail address:\")\n",
    "    match = re.match(r'^[_a-z0-9-]+(\\.[_a-z0-9-]+)*@[a-z0-9-]+(\\.[a-z0-9-]+)*(\\.[a-z]{2,4})$',email)\n",
    "    if match == None:\n",
    "        return(\"Invalid Email\")\n",
    "        #raise ValueError('Invalid Email')\n",
    "    else:\n",
    "        return(\"Valid Email\")"
   ]
  },
  {
   "cell_type": "code",
   "execution_count": 17,
   "metadata": {},
   "outputs": [],
   "source": [
    "# validateEmail()"
   ]
  },
  {
   "cell_type": "markdown",
   "metadata": {},
   "source": [
    "### Select phone number from a string"
   ]
  },
  {
   "cell_type": "code",
   "execution_count": 18,
   "metadata": {},
   "outputs": [],
   "source": [
    "s = \"Ontario ministry of healthy outside Canada can be contacted on +25641 540628 or +25641540620\"\n",
    "\n",
    "def getPhoneNumber(s):\n",
    "    for ss in s:\n",
    "        x = re.findall(r'(\\+256\\d{2,8}[ ]?\\d{6})', s)\n",
    "    return(x)"
   ]
  },
  {
   "cell_type": "code",
   "execution_count": 19,
   "metadata": {},
   "outputs": [],
   "source": [
    "#getPhoneNumber(s)"
   ]
  },
  {
   "cell_type": "markdown",
   "metadata": {},
   "source": [
    "### occurance of numbers"
   ]
  },
  {
   "cell_type": "code",
   "execution_count": 20,
   "metadata": {},
   "outputs": [
    {
     "name": "stdout",
     "output_type": "stream",
     "text": [
      "Number one , Number two , Number Three , Number Four and Number Five\n"
     ]
    }
   ],
   "source": [
    "p = re.compile('(1|2|3|4|5)')\n",
    "x = p.sub('Number', '1 one , 2 two , 3 Three , 4 Four and 5 Five')\n",
    "print(x)"
   ]
  },
  {
   "cell_type": "markdown",
   "metadata": {},
   "source": [
    "## Text-mining through email data"
   ]
  },
  {
   "cell_type": "code",
   "execution_count": 21,
   "metadata": {},
   "outputs": [],
   "source": [
    "emails = open('enron.txt','r')\n",
    "emaillist = emails.read()"
   ]
  },
  {
   "cell_type": "markdown",
   "metadata": {},
   "source": [
    "#### Extracting only subjects"
   ]
  },
  {
   "cell_type": "code",
   "execution_count": 22,
   "metadata": {},
   "outputs": [],
   "source": [
    "def getSubject(emaillist):\n",
    "    subject = re.findall('\\Subject:.*.\\S',emaillist)\n",
    "    #print(subject)\n",
    "    for x in subject:\n",
    "        print(x)"
   ]
  },
  {
   "cell_type": "code",
   "execution_count": 23,
   "metadata": {},
   "outputs": [],
   "source": [
    "#getSubject(emaillist)"
   ]
  },
  {
   "cell_type": "markdown",
   "metadata": {},
   "source": [
    "#### Extracting only unique email addresses"
   ]
  },
  {
   "cell_type": "code",
   "execution_count": 24,
   "metadata": {},
   "outputs": [],
   "source": [
    "def getEmail(emaillist):\n",
    "    emailaddress = re.findall(r'[\\w\\.-]+@[\\w\\.-]+',emaillist)\n",
    "    myset = set(emailaddress)\n",
    "    for x in myset:\n",
    "        print(x)"
   ]
  },
  {
   "cell_type": "code",
   "execution_count": 25,
   "metadata": {},
   "outputs": [],
   "source": [
    "# getEmail(emaillist)"
   ]
  },
  {
   "cell_type": "markdown",
   "metadata": {},
   "source": [
    "### Extracting website titles from a list of domains"
   ]
  },
  {
   "cell_type": "code",
   "execution_count": 26,
   "metadata": {},
   "outputs": [],
   "source": [
    "websites = 'alphacodes google stackoverflow'.split()\n",
    "\n",
    "def getTitle(websites):\n",
    "    pat = re.compile(r'<title>+.*</title>+', re.I|re.M)\n",
    "\n",
    "    for s in websites:\n",
    "        print ('Now searchin+'+ s)\n",
    "        try:\n",
    "            u = urllib.urlopen('http://' + s + '.com')\n",
    "        except:\n",
    "            u = urllib.request.urlopen('http://' + s + '.com')\n",
    "        text = u.read()\n",
    "        title = re.findall(pat, str(text))\n",
    "        print (title[0])"
   ]
  },
  {
   "cell_type": "code",
   "execution_count": 28,
   "metadata": {},
   "outputs": [],
   "source": [
    "# getTitle(websites)"
   ]
  },
  {
   "cell_type": "code",
   "execution_count": null,
   "metadata": {},
   "outputs": [],
   "source": []
  }
 ],
 "metadata": {
  "kernelspec": {
   "display_name": "Python 3",
   "language": "python",
   "name": "python3"
  },
  "language_info": {
   "codemirror_mode": {
    "name": "ipython",
    "version": 3
   },
   "file_extension": ".py",
   "mimetype": "text/x-python",
   "name": "python",
   "nbconvert_exporter": "python",
   "pygments_lexer": "ipython3",
   "version": "3.7.3"
  }
 },
 "nbformat": 4,
 "nbformat_minor": 2
}
